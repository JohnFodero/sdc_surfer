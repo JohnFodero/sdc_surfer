{
 "cells": [
  {
   "cell_type": "markdown",
   "metadata": {},
   "source": [
    "# RPi Model Testing"
   ]
  },
  {
   "cell_type": "code",
   "execution_count": 1,
   "metadata": {
    "collapsed": true
   },
   "outputs": [],
   "source": [
    "import numpy as np\n",
    "import pickle\n",
    "from time import time"
   ]
  },
  {
   "cell_type": "code",
   "execution_count": 2,
   "metadata": {},
   "outputs": [
    {
     "name": "stdout",
     "output_type": "stream",
     "text": [
      "(50, 120, 160, 3)\n"
     ]
    }
   ],
   "source": [
    "# load pi-sized data\n",
    "with open('pi_data.p', 'rb') as f:\n",
    "    X, y = pickle.load(f)\n",
    "print(X.shape)"
   ]
  },
  {
   "cell_type": "code",
   "execution_count": 3,
   "metadata": {},
   "outputs": [
    {
     "name": "stderr",
     "output_type": "stream",
     "text": [
      "Using TensorFlow backend.\n"
     ]
    },
    {
     "name": "stdout",
     "output_type": "stream",
     "text": [
      "Evaluated 50 points in 2.4032 seconds. (20.8054 FPS)\n",
      "[[ 24.83615875]]\n"
     ]
    }
   ],
   "source": [
    "# load model\n",
    "from keras.models import load_model\n",
    "from keras.models import Model\n",
    "model = load_model('./models/model.hdf5')\n",
    "\n",
    "start_time = time()\n",
    "for frame in X:\n",
    "    pred_y = model.predict(np.reshape(frame, (1, 120, 160, 3)))\n",
    "end_time = time()\n",
    "print('Evaluated {} points in {:4.4f} seconds. ({:4.4f} FPS)'.format(X.shape[0], end_time - start_time, X.shape[0]/(end_time - start_time)))\n",
    "print(pred_y)"
   ]
  },
  {
   "cell_type": "code",
   "execution_count": null,
   "metadata": {
    "collapsed": true
   },
   "outputs": [],
   "source": []
  }
 ],
 "metadata": {
  "kernelspec": {
   "display_name": "Python 3",
   "language": "python",
   "name": "python3"
  },
  "language_info": {
   "codemirror_mode": {
    "name": "ipython",
    "version": 3
   },
   "file_extension": ".py",
   "mimetype": "text/x-python",
   "name": "python",
   "nbconvert_exporter": "python",
   "pygments_lexer": "ipython3",
   "version": "3.4.2"
  }
 },
 "nbformat": 4,
 "nbformat_minor": 2
}
